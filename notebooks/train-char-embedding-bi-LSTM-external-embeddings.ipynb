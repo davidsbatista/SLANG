{
 "cells": [
  {
   "cell_type": "code",
   "execution_count": 61,
   "metadata": {},
   "outputs": [],
   "source": [
    "import gensim\n",
    "import numpy as np\n",
    "\n",
    "from keras.models import Model\n",
    "from keras.preprocessing import sequence\n",
    "from keras.layers.wrappers import Bidirectional\n",
    "from keras.layers import Input, LSTM, Dropout, Embedding"
   ]
  },
  {
   "cell_type": "code",
   "execution_count": 62,
   "metadata": {
    "collapsed": true
   },
   "outputs": [],
   "source": [
    "paramopama = \"corpus_paramopama+second_harem.txt\""
   ]
  },
  {
   "cell_type": "code",
   "execution_count": 63,
   "metadata": {
    "collapsed": true
   },
   "outputs": [],
   "source": [
    "max_seq_len = 0\n",
    "vocabulary = set()\n",
    "all_tags = set()\n",
    "\n",
    "with open(paramopama, 'rt') as f_input:\n",
    "    sentences_tokens = []\n",
    "    sentences_tags = []\n",
    "    tokens = []\n",
    "    tags = []\n",
    "    for line in f_input:\n",
    "        if line=='\\n':\n",
    "            if len(tokens) > max_seq_len:\n",
    "                max_seq_len = len(tokens)            \n",
    "            sentences_tokens.append(tokens)\n",
    "            sentences_tags.append(tags)\n",
    "            tokens = []\n",
    "            tags = []            \n",
    "        else:\n",
    "            token, tag = line.split('\\t')\n",
    "            tokens.append(token)\n",
    "            tags.append(tag.strip())\n",
    "            vocabulary.add(token)\n",
    "            all_tags.add(tag.strip())"
   ]
  },
  {
   "cell_type": "code",
   "execution_count": 64,
   "metadata": {
    "collapsed": true
   },
   "outputs": [],
   "source": [
    "characters = set(char for token in vocabulary for char in token)"
   ]
  },
  {
   "cell_type": "code",
   "execution_count": 65,
   "metadata": {
    "collapsed": true
   },
   "outputs": [],
   "source": [
    "# create an index of tokens, adding two special tokens: 'PADDED' and 'UNKNOWN'\n",
    "PADDED = 0\n",
    "UNKNOWN = 1\n",
    "\n",
    "char2idx = {char: idx for idx, char in enumerate(characters)}\n",
    "idx2char = {idx: char for char, idx in char2idx.items()}\n",
    "\n",
    "word2idx = {word: i + 2 for i, word in enumerate(vocabulary, 0)}\n",
    "word2idx[\"PADDED\"] = PADDED\n",
    "word2idx[\"UNKNOWN\"] = UNKNOWN\n",
    "idx2word = {value: key for key, value in word2idx.items()} \n",
    "\n",
    "tag2idx={}\n",
    "tag2idx[\"PADDED\"] = PADDED\n",
    "tag2idx.update({tag: i + 1 for i, tag in enumerate(all_tags, 0)})\n",
    "idx2tag = {value: key for key, value in tag2idx.items()}"
   ]
  },
  {
   "cell_type": "markdown",
   "metadata": {},
   "source": [
    "## Load Embeddings"
   ]
  },
  {
   "cell_type": "code",
   "execution_count": 66,
   "metadata": {},
   "outputs": [
    {
     "data": {
      "text/plain": [
       "200"
      ]
     },
     "execution_count": 66,
     "metadata": {},
     "output_type": "execute_result"
    }
   ],
   "source": [
    "fname = \"publico_vectors_non-breaking-spaces.bin\"\n",
    "embeddings = gensim.models.KeyedVectors.load_word2vec_format(fname, binary=True)\n",
    "embeddings.vector_size"
   ]
  },
  {
   "cell_type": "code",
   "execution_count": 67,
   "metadata": {},
   "outputs": [
    {
     "name": "stdout",
     "output_type": "stream",
     "text": [
      "15196 of 219475 tokens randomly initialized\n"
     ]
    }
   ],
   "source": [
    "# build a word embeddings matrix, out of vocabulary words will be initialized randomly\n",
    "embedding_matrix = np.random.random((len(embeddings.index2word), embeddings.vector_size))\n",
    "not_found = 0\n",
    "\n",
    "for word, i in word2idx.items():\n",
    "    if word in embeddings.vocab:\n",
    "        embedding_vector = embeddings[word]\n",
    "        embedding_matrix[i] = embedding_vector\n",
    "    else:\n",
    "        not_found += 1\n",
    "\n",
    "print('{} of {} tokens randomly initialized'.format(not_found, len(embeddings.index2word)))"
   ]
  },
  {
   "cell_type": "code",
   "execution_count": 68,
   "metadata": {
    "collapsed": true
   },
   "outputs": [],
   "source": [
    "vectors_tokens = []\n",
    "for sentence in sentences_tokens:\n",
    "    vector = []\n",
    "    for word in sentence:\n",
    "        vector.append(word2idx[word])\n",
    "    vectors_tokens.append(vector)"
   ]
  },
  {
   "cell_type": "code",
   "execution_count": 69,
   "metadata": {},
   "outputs": [
    {
     "data": {
      "text/plain": [
       "16275"
      ]
     },
     "execution_count": 69,
     "metadata": {},
     "output_type": "execute_result"
    }
   ],
   "source": [
    "len(vectors_tokens)"
   ]
  },
  {
   "cell_type": "code",
   "execution_count": 70,
   "metadata": {
    "collapsed": true
   },
   "outputs": [],
   "source": [
    "vectors_tags = []\n",
    "for sentence in sentences_tags:\n",
    "    vector = []\n",
    "    for tag in sentence:\n",
    "        vector.append(tag2idx[tag])\n",
    "    vectors_tags.append(vector)"
   ]
  },
  {
   "cell_type": "code",
   "execution_count": 71,
   "metadata": {},
   "outputs": [
    {
     "data": {
      "text/plain": [
       "16275"
      ]
     },
     "execution_count": 71,
     "metadata": {},
     "output_type": "execute_result"
    }
   ],
   "source": [
    "len(vectors_tags)"
   ]
  },
  {
   "cell_type": "code",
   "execution_count": 72,
   "metadata": {
    "collapsed": true
   },
   "outputs": [],
   "source": [
    "def token2char(token):\n",
    "    word_char_idx = []\n",
    "    for char in token:\n",
    "        word_char_idx.append(char2idx[char])\n",
    "    return np.array(word_char_idx)"
   ]
  },
  {
   "cell_type": "code",
   "execution_count": 73,
   "metadata": {
    "collapsed": true
   },
   "outputs": [],
   "source": [
    "def pad_nested_sequences(sequences, dtype='int32'):\n",
    "    \"\"\"Pads nested sequences to the same length.\n",
    "    This function transforms a list of list sequences\n",
    "    into a 3D Numpy array of shape `(num_samples, max_sent_len, max_word_len)`.\n",
    "    Args:\n",
    "        sequences: List of lists of lists.\n",
    "        dtype: Type of the output sequences.\n",
    "    # Returns\n",
    "        x: Numpy array.\n",
    "    \"\"\"\n",
    "    max_sent_len = 0\n",
    "    max_word_len = 0\n",
    "    for sent in sequences:\n",
    "        max_sent_len = max(len(sent), max_sent_len)\n",
    "        for word in sent:\n",
    "            max_word_len = max(len(word), max_word_len)\n",
    "\n",
    "    x = np.zeros((len(sequences), max_sent_len, max_word_len)).astype(dtype)\n",
    "    for i, sent in enumerate(sequences):\n",
    "        for j, word in enumerate(sent):\n",
    "            x[i, j, :len(word)] = word\n",
    "\n",
    "    return x\n"
   ]
  },
  {
   "cell_type": "code",
   "execution_count": 74,
   "metadata": {
    "collapsed": true
   },
   "outputs": [],
   "source": [
    "MAX_LENGTH = max_seq_len  # max([len(sentence) for sentence in sent_text])"
   ]
  },
  {
   "cell_type": "code",
   "execution_count": 75,
   "metadata": {
    "collapsed": true
   },
   "outputs": [],
   "source": [
    "text_padded = sequence.pad_sequences(vectors_tokens, padding='post', maxlen=MAX_LENGTH, truncating='post')\n",
    "tags_padded = sequence.pad_sequences(vectors_tags, padding='post', maxlen=MAX_LENGTH, truncating='post')"
   ]
  },
  {
   "cell_type": "code",
   "execution_count": 76,
   "metadata": {
    "collapsed": true
   },
   "outputs": [],
   "source": [
    "char_ids = [[token2char(idx2word[token_idx]) for token_idx in doc] for doc in vectors_tokens]\n",
    "char_vectors_padded = pad_nested_sequences(char_ids)    "
   ]
  },
  {
   "cell_type": "code",
   "execution_count": 77,
   "metadata": {
    "collapsed": true
   },
   "outputs": [],
   "source": [
    "features = [np.array(text_padded), char_ids]"
   ]
  },
  {
   "cell_type": "markdown",
   "metadata": {},
   "source": [
    "# LSTM char embdding + word embeddings + CRF model"
   ]
  },
  {
   "cell_type": "code",
   "execution_count": 78,
   "metadata": {
    "collapsed": true
   },
   "outputs": [],
   "source": [
    "use_char = True\n",
    "use_crf = True\n",
    "\n",
    "char_vocab_size = 10\n",
    "char_embedding_dim = 25\n",
    "char_lstm_size = 25\n",
    "dropout = 0.3\n",
    "\n",
    "word_lstm_size = 50\n",
    "\n",
    "fc_dim = 100 # output fully-connected layer size\n",
    "num_labels = len(tag2idx.keys())"
   ]
  },
  {
   "cell_type": "code",
   "execution_count": 79,
   "metadata": {
    "collapsed": true
   },
   "outputs": [],
   "source": [
    "from keras.utils import to_categorical"
   ]
  },
  {
   "cell_type": "code",
   "execution_count": 80,
   "metadata": {
    "collapsed": true
   },
   "outputs": [],
   "source": [
    "len(tag2idx.keys())\n",
    "y = to_categorical(tags_padded, len(tag2idx.keys())).astype(int)\n",
    "y = y if len(y.shape) == 3 else np.expand_dims(y, axis=0)"
   ]
  },
  {
   "cell_type": "code",
   "execution_count": 81,
   "metadata": {
    "collapsed": true
   },
   "outputs": [],
   "source": [
    "word_vocab_size = len(idx2word.keys())\n",
    "word_embedding_dim = 100"
   ]
  },
  {
   "cell_type": "code",
   "execution_count": 82,
   "metadata": {
    "collapsed": true
   },
   "outputs": [],
   "source": [
    "from keras import metrics\n",
    "from keras.layers import TimeDistributed, Dense, Input\n",
    "from keras.layers import concatenate"
   ]
  },
  {
   "cell_type": "code",
   "execution_count": 83,
   "metadata": {
    "collapsed": true
   },
   "outputs": [],
   "source": [
    "n_words = len(idx2word.keys())\n",
    "n_chars = len(idx2char.keys())\n",
    "max_len = 183\n",
    "max_len_char = 35\n",
    "n_tags = len(idx2tag.keys())"
   ]
  },
  {
   "cell_type": "markdown",
   "metadata": {},
   "source": [
    "## 80% train 20% test"
   ]
  },
  {
   "cell_type": "code",
   "execution_count": 84,
   "metadata": {},
   "outputs": [],
   "source": [
    "split=0.8\n",
    "train_test_split = int(len(text_padded)*split)\n",
    "\n",
    "train_text_padded = np.array(text_padded)[0:train_test_split]\n",
    "train_char_padded = char_vectors_padded[0:train_test_split]\n",
    "\n",
    "test_text_padded = np.array(text_padded)[train_test_split:]\n",
    "test_char_padded = char_vectors_padded[train_test_split:]\n",
    "\n",
    "y_train = y[0:train_test_split]\n",
    "y_test = y[train_test_split:]\n",
    "\n",
    "train_features = [np.array(train_text_padded), train_char_padded]\n",
    "test_features = [np.array(test_text_padded), test_char_padded]"
   ]
  },
  {
   "cell_type": "markdown",
   "metadata": {},
   "source": [
    "# Neural Architectures for Named Entity Recognition (Lample et. al 2016)"
   ]
  },
  {
   "cell_type": "code",
   "execution_count": 97,
   "metadata": {
    "collapsed": true
   },
   "outputs": [],
   "source": [
    "use_crf = True\n",
    "use_char = False"
   ]
  },
  {
   "cell_type": "code",
   "execution_count": 98,
   "metadata": {
    "collapsed": true
   },
   "outputs": [],
   "source": [
    "from keras.layers import Concatenate\n",
    "from keras_contrib.layers import CRF\n",
    "\n",
    "# Word Embeddings\n",
    "word_ids = Input(batch_shape=(None, None), dtype='int32', name='word_input')\n",
    "word_embeddings = Embedding(input_dim=n_words, output_dim=10,\n",
    "                            mask_zero=True, name='word_embedding')(word_ids)\n",
    "\n",
    "if use_char:\n",
    "    # Character Embeddings\n",
    "    char_ids = Input(batch_shape=(None, None, None), dtype='int32', name='char_input')\n",
    "    char_embeddings = Embedding(input_dim=n_chars, output_dim=5,\n",
    "                                mask_zero=True, name='char_embedding')(char_ids)\n",
    "\n",
    "    # Apply a bi-LSTM to each char_embedding\n",
    "    char_embeddings = TimeDistributed(Bidirectional(LSTM(units=10, return_sequences=False)))(char_embeddings)\n",
    "\n",
    "    ## Concatenate all the vectors\n",
    "    final_embeddings = Concatenate()([word_embeddings, char_embeddings])\n",
    "else:\n",
    "    final_embeddings = word_embeddings\n",
    "\n",
    "# Pass it through a final LSTM\n",
    "embeddings = Dropout(dropout)(final_embeddings)\n",
    "z = Bidirectional(LSTM(units=word_lstm_size, return_sequences=True))(embeddings)\n",
    "z = Dense(fc_dim, activation='tanh')(z)\n",
    "\n",
    "if use_crf:\n",
    "    crf = CRF(num_labels, learn_mode='join', sparse_target=True)\n",
    "    loss = crf.loss_function\n",
    "    pred = crf(z)\n",
    "    metric=[crf.accuracy]\n",
    "else:\n",
    "    loss = 'categorical_crossentropy'\n",
    "    pred = Dense(num_labels, activation='softmax')(z)\n",
    "    metric = [metrics.categorical_accuracy]\n",
    "\n",
    "model = Model([word_ids, char_ids], outputs=pred)\n",
    "model.compile(optimizer='adam', loss=loss, metrics=metric)"
   ]
  },
  {
   "cell_type": "code",
   "execution_count": 100,
   "metadata": {
    "scrolled": false
   },
   "outputs": [],
   "source": [
    "#model.fit(train_features,y_train)"
   ]
  },
  {
   "cell_type": "code",
   "execution_count": null,
   "metadata": {
    "collapsed": true
   },
   "outputs": [],
   "source": []
  },
  {
   "cell_type": "code",
   "execution_count": null,
   "metadata": {
    "collapsed": true
   },
   "outputs": [],
   "source": []
  },
  {
   "cell_type": "code",
   "execution_count": null,
   "metadata": {
    "collapsed": true
   },
   "outputs": [],
   "source": []
  },
  {
   "cell_type": "code",
   "execution_count": null,
   "metadata": {
    "collapsed": true
   },
   "outputs": [],
   "source": []
  },
  {
   "cell_type": "code",
   "execution_count": 25,
   "metadata": {},
   "outputs": [
    {
     "ename": "NameError",
     "evalue": "name 'model' is not defined",
     "traceback": [
      "\u001b[0;31m---------------------------------------------------------------------------\u001b[0m",
      "\u001b[0;31mNameError\u001b[0m                                 Traceback (most recent call last)",
      "\u001b[0;32m<ipython-input-25-1271999399fa>\u001b[0m in \u001b[0;36m<module>\u001b[0;34m()\u001b[0m\n\u001b[0;32m----> 1\u001b[0;31m \u001b[0mpredictions\u001b[0m \u001b[0;34m=\u001b[0m \u001b[0mmodel\u001b[0m\u001b[0;34m.\u001b[0m\u001b[0mpredict\u001b[0m\u001b[0;34m(\u001b[0m\u001b[0mtest_features\u001b[0m\u001b[0;34m)\u001b[0m\u001b[0;34m\u001b[0m\u001b[0m\n\u001b[0m",
      "\u001b[0;31mNameError\u001b[0m: name 'model' is not defined"
     ],
     "output_type": "error"
    }
   ],
   "source": [
    "predictions = model.predict(test_features)"
   ]
  },
  {
   "cell_type": "code",
   "execution_count": null,
   "metadata": {
    "collapsed": true
   },
   "outputs": [],
   "source": [
    "all_predictions = []\n",
    "sentence_predictions = []\n",
    "\n",
    "for sentence in predictions:\n",
    "    for tag in sentence:\n",
    "        sentence_predictions.append(idx2tag[np.argmax(tag)])\n",
    "        all_tags.add(idx2tag[np.argmax(tag)])\n",
    "    all_predictions.append(sentence_predictions)\n",
    "    sentence_predictions = []"
   ]
  },
  {
   "cell_type": "code",
   "execution_count": null,
   "metadata": {
    "collapsed": true
   },
   "outputs": [],
   "source": [
    "len(all_predictions)"
   ]
  },
  {
   "cell_type": "code",
   "execution_count": null,
   "metadata": {
    "collapsed": true
   },
   "outputs": [],
   "source": [
    "all_true = []\n",
    "for sentence in y_test:    \n",
    "    sent_true = [idx2tag[np.argmax(tag)] for tag in sentence]\n",
    "    all_true.append(sent_true)"
   ]
  },
  {
   "cell_type": "code",
   "execution_count": null,
   "metadata": {
    "collapsed": true
   },
   "outputs": [],
   "source": [
    "len(all_true)"
   ]
  },
  {
   "cell_type": "code",
   "execution_count": null,
   "metadata": {
    "collapsed": true
   },
   "outputs": [],
   "source": [
    "from sklearn_crfsuite.metrics import flat_classification_report\n",
    "print(flat_classification_report(all_true, all_predictions))"
   ]
  }
 ],
 "metadata": {
  "kernelspec": {
   "display_name": "Python 3",
   "language": "python",
   "name": "python3"
  },
  "language_info": {
   "codemirror_mode": {
    "name": "ipython",
    "version": 3
   },
   "file_extension": ".py",
   "mimetype": "text/x-python",
   "name": "python",
   "nbconvert_exporter": "python",
   "pygments_lexer": "ipython3",
   "version": "3.6.2"
  }
 },
 "nbformat": 4,
 "nbformat_minor": 2
}
