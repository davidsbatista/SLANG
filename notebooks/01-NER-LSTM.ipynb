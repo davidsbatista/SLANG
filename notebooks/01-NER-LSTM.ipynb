{
 "cells": [
  {
   "cell_type": "code",
   "execution_count": null,
   "metadata": {},
   "outputs": [
    {
     "name": "stderr",
     "output_type": "stream",
     "text": [
      "Using TensorFlow backend.\n"
     ]
    }
   ],
   "source": [
    "import gensim\n",
    "import numpy as np\n",
    "\n",
    "from keras.models import Model\n",
    "from keras.preprocessing import sequence\n",
    "from keras.layers.wrappers import Bidirectional\n",
    "from keras.layers import Input, LSTM, Dropout, Embedding"
   ]
  },
  {
   "cell_type": "code",
   "execution_count": 2,
   "metadata": {
    "collapsed": true
   },
   "outputs": [],
   "source": [
    "paramopama = \"corpus_paramopama+second_harem.txt\""
   ]
  },
  {
   "cell_type": "code",
   "execution_count": 3,
   "metadata": {
    "collapsed": true
   },
   "outputs": [],
   "source": [
    "max_seq_len = 0\n",
    "vocabulary = set()\n",
    "all_tags = set()\n",
    "\n",
    "with open(paramopama, 'rt') as f_input:\n",
    "    sentences_tokens = []\n",
    "    sentences_tags = []\n",
    "    tokens = []\n",
    "    tags = []\n",
    "    for line in f_input:\n",
    "        if line=='\\n':\n",
    "            if len(tokens) > max_seq_len:\n",
    "                max_seq_len = len(tokens)            \n",
    "            sentences_tokens.append(tokens)\n",
    "            sentences_tags.append(tags)\n",
    "            tokens = []\n",
    "            tags = []            \n",
    "        else:\n",
    "            token, tag = line.split('\\t')\n",
    "            tokens.append(token)\n",
    "            tags.append(tag.strip())\n",
    "            vocabulary.add(token)\n",
    "            all_tags.add(tag.strip())"
   ]
  },
  {
   "cell_type": "code",
   "execution_count": 4,
   "metadata": {
    "collapsed": true
   },
   "outputs": [],
   "source": [
    "characters = set(char for token in vocabulary for char in token)"
   ]
  },
  {
   "cell_type": "code",
   "execution_count": 5,
   "metadata": {
    "collapsed": true
   },
   "outputs": [],
   "source": [
    "# create an index of tokens, adding two special tokens: 'PADDED' and 'UNKNOWN'\n",
    "PADDED = 0\n",
    "UNKNOWN = 1\n",
    "\n",
    "char2idx = {char: idx for idx, char in enumerate(characters)}\n",
    "idx2char = {idx: char for char, idx in char2idx.items()}\n",
    "\n",
    "word2idx = {word: i + 2 for i, word in enumerate(vocabulary, 0)}\n",
    "word2idx[\"PADDED\"] = PADDED\n",
    "word2idx[\"UNKNOWN\"] = UNKNOWN\n",
    "idx2word = {value: key for key, value in word2idx.items()} \n",
    "\n",
    "tag2idx={}\n",
    "tag2idx[\"PADDED\"] = PADDED\n",
    "tag2idx.update({tag: i + 1 for i, tag in enumerate(all_tags, 0)})\n",
    "idx2tag = {value: key for key, value in tag2idx.items()}"
   ]
  },
  {
   "cell_type": "markdown",
   "metadata": {},
   "source": [
    "## Load Embeddings"
   ]
  },
  {
   "cell_type": "code",
   "execution_count": 6,
   "metadata": {},
   "outputs": [
    {
     "data": {
      "text/plain": [
       "200"
      ]
     },
     "execution_count": 6,
     "metadata": {},
     "output_type": "execute_result"
    }
   ],
   "source": [
    "fname = \"publico_vectors_non-breaking-spaces.bin\"\n",
    "embeddings = gensim.models.KeyedVectors.load_word2vec_format(fname, binary=True)\n",
    "embeddings.vector_size"
   ]
  },
  {
   "cell_type": "code",
   "execution_count": 7,
   "metadata": {},
   "outputs": [
    {
     "name": "stdout",
     "output_type": "stream",
     "text": [
      "15196 of 219475 tokens randomly initialized\n"
     ]
    }
   ],
   "source": [
    "# build a word embeddings matrix, out of vocabulary words will be initialized randomly\n",
    "embedding_matrix = np.random.random((len(embeddings.index2word), embeddings.vector_size))\n",
    "not_found = 0\n",
    "\n",
    "for word, i in word2idx.items():\n",
    "    if word in embeddings.vocab:\n",
    "        embedding_vector = embeddings[word]\n",
    "        embedding_matrix[i] = embedding_vector\n",
    "    else:\n",
    "        not_found += 1\n",
    "\n",
    "print('{} of {} tokens randomly initialized'.format(not_found, len(embeddings.index2word)))"
   ]
  },
  {
   "cell_type": "code",
   "execution_count": 8,
   "metadata": {
    "collapsed": true
   },
   "outputs": [],
   "source": [
    "vectors_tokens = []\n",
    "for sentence in sentences_tokens:\n",
    "    vector = []\n",
    "    for word in sentence:\n",
    "        vector.append(word2idx[word])\n",
    "    vectors_tokens.append(vector)"
   ]
  },
  {
   "cell_type": "code",
   "execution_count": 9,
   "metadata": {},
   "outputs": [
    {
     "data": {
      "text/plain": [
       "16275"
      ]
     },
     "execution_count": 9,
     "metadata": {},
     "output_type": "execute_result"
    }
   ],
   "source": [
    "len(vectors_tokens)"
   ]
  },
  {
   "cell_type": "code",
   "execution_count": 10,
   "metadata": {
    "collapsed": true
   },
   "outputs": [],
   "source": [
    "vectors_tags = []\n",
    "for sentence in sentences_tags:\n",
    "    vector = []\n",
    "    for tag in sentence:\n",
    "        vector.append(tag2idx[tag])\n",
    "    vectors_tags.append(vector)"
   ]
  },
  {
   "cell_type": "code",
   "execution_count": 11,
   "metadata": {},
   "outputs": [
    {
     "data": {
      "text/plain": [
       "16275"
      ]
     },
     "execution_count": 11,
     "metadata": {},
     "output_type": "execute_result"
    }
   ],
   "source": [
    "len(vectors_tags)"
   ]
  },
  {
   "cell_type": "code",
   "execution_count": 12,
   "metadata": {
    "collapsed": true
   },
   "outputs": [],
   "source": [
    "def token2char(token):\n",
    "    word_char_idx = []\n",
    "    for char in token:\n",
    "        word_char_idx.append(char2idx[char])\n",
    "    return np.array(word_char_idx)"
   ]
  },
  {
   "cell_type": "code",
   "execution_count": 13,
   "metadata": {
    "collapsed": true
   },
   "outputs": [],
   "source": [
    "def pad_nested_sequences(sequences, dtype='int32'):\n",
    "    \"\"\"Pads nested sequences to the same length.\n",
    "    This function transforms a list of list sequences\n",
    "    into a 3D Numpy array of shape `(num_samples, max_sent_len, max_word_len)`.\n",
    "    Args:\n",
    "        sequences: List of lists of lists.\n",
    "        dtype: Type of the output sequences.\n",
    "    # Returns\n",
    "        x: Numpy array.\n",
    "    \"\"\"\n",
    "    max_sent_len = 0\n",
    "    max_word_len = 0\n",
    "    for sent in sequences:\n",
    "        max_sent_len = max(len(sent), max_sent_len)\n",
    "        for word in sent:\n",
    "            max_word_len = max(len(word), max_word_len)\n",
    "\n",
    "    x = np.zeros((len(sequences), max_sent_len, max_word_len)).astype(dtype)\n",
    "    for i, sent in enumerate(sequences):\n",
    "        for j, word in enumerate(sent):\n",
    "            x[i, j, :len(word)] = word\n",
    "\n",
    "    return x\n"
   ]
  },
  {
   "cell_type": "code",
   "execution_count": 14,
   "metadata": {
    "collapsed": true
   },
   "outputs": [],
   "source": [
    "MAX_LENGTH = max_seq_len  # max([len(sentence) for sentence in sent_text])"
   ]
  },
  {
   "cell_type": "code",
   "execution_count": 15,
   "metadata": {
    "collapsed": true
   },
   "outputs": [],
   "source": [
    "text_padded = sequence.pad_sequences(vectors_tokens, padding='post', maxlen=MAX_LENGTH, truncating='post')\n",
    "tags_padded = sequence.pad_sequences(vectors_tags, padding='post', maxlen=MAX_LENGTH, truncating='post')"
   ]
  },
  {
   "cell_type": "code",
   "execution_count": 16,
   "metadata": {
    "collapsed": true
   },
   "outputs": [],
   "source": [
    "char_ids = [[token2char(idx2word[token_idx]) for token_idx in doc] for doc in vectors_tokens]\n",
    "char_vectors_padded = pad_nested_sequences(char_ids)    "
   ]
  },
  {
   "cell_type": "code",
   "execution_count": 17,
   "metadata": {
    "collapsed": true
   },
   "outputs": [],
   "source": [
    "features = [np.array(text_padded), char_ids]"
   ]
  },
  {
   "cell_type": "code",
   "execution_count": 18,
   "metadata": {
    "collapsed": true
   },
   "outputs": [],
   "source": [
    "use_char = True\n",
    "use_crf = True\n",
    "\n",
    "char_vocab_size = 10\n",
    "char_embedding_dim = 25\n",
    "char_lstm_size = 25\n",
    "dropout = 0.3\n",
    "\n",
    "word_lstm_size = 50\n",
    "\n",
    "fc_dim = 100 # output fully-connected layer size\n",
    "num_labels = len(tag2idx.keys())"
   ]
  },
  {
   "cell_type": "code",
   "execution_count": 19,
   "metadata": {
    "collapsed": true
   },
   "outputs": [],
   "source": [
    "from keras.utils import to_categorical"
   ]
  },
  {
   "cell_type": "code",
   "execution_count": 20,
   "metadata": {
    "collapsed": true
   },
   "outputs": [],
   "source": [
    "len(tag2idx.keys())\n",
    "y = to_categorical(tags_padded, len(tag2idx.keys())).astype(int)\n",
    "y = y if len(y.shape) == 3 else np.expand_dims(y, axis=0)"
   ]
  },
  {
   "cell_type": "code",
   "execution_count": 43,
   "metadata": {},
   "outputs": [
    {
     "data": {
      "text/plain": [
       "{0: 'PADDED', 1: 'ORGANIZACAO', 2: 'TEMPO', 3: 'LOCAL', 4: 'PESSOA', 5: 'O'}"
      ]
     },
     "execution_count": 43,
     "metadata": {},
     "output_type": "execute_result"
    }
   ],
   "source": [
    "idx2tag"
   ]
  },
  {
   "cell_type": "code",
   "execution_count": 44,
   "metadata": {},
   "outputs": [
    {
     "data": {
      "text/plain": [
       "array([5, 5, 5, 5, 5, 5, 5, 5, 5, 5, 5, 5, 5, 5, 5, 2, 2, 5, 5, 1, 5, 5,\n",
       "       3, 5, 5, 5, 5, 5, 5, 5, 5, 5, 5, 5, 5, 5, 5, 5, 5, 5, 5, 5, 5, 5,\n",
       "       5, 5, 5, 5, 5, 0, 0, 0, 0, 0, 0, 0, 0, 0, 0, 0, 0, 0, 0, 0, 0, 0,\n",
       "       0, 0, 0, 0, 0, 0, 0, 0, 0, 0, 0, 0, 0, 0, 0, 0, 0, 0, 0, 0, 0, 0,\n",
       "       0, 0, 0, 0, 0, 0, 0, 0, 0, 0, 0, 0, 0, 0, 0, 0, 0, 0, 0, 0, 0, 0,\n",
       "       0, 0, 0, 0, 0, 0, 0, 0, 0, 0, 0, 0, 0, 0, 0, 0, 0, 0, 0, 0, 0, 0,\n",
       "       0, 0, 0, 0, 0, 0, 0, 0, 0, 0, 0, 0, 0, 0, 0, 0, 0, 0, 0, 0, 0, 0,\n",
       "       0, 0, 0, 0, 0, 0, 0, 0, 0, 0, 0, 0, 0, 0, 0, 0, 0, 0, 0, 0, 0, 0,\n",
       "       0, 0, 0, 0, 0, 0, 0], dtype=int32)"
      ]
     },
     "execution_count": 44,
     "metadata": {},
     "output_type": "execute_result"
    }
   ],
   "source": [
    "tags_padded[3]"
   ]
  },
  {
   "cell_type": "code",
   "execution_count": 21,
   "metadata": {
    "collapsed": true
   },
   "outputs": [],
   "source": [
    "word_vocab_size = len(idx2word.keys())\n",
    "word_embedding_dim = 100"
   ]
  },
  {
   "cell_type": "code",
   "execution_count": 22,
   "metadata": {
    "collapsed": true
   },
   "outputs": [],
   "source": [
    "from keras import metrics\n",
    "from keras.layers import TimeDistributed, Dense, Input\n",
    "from keras.layers import concatenate"
   ]
  },
  {
   "cell_type": "code",
   "execution_count": 23,
   "metadata": {
    "collapsed": true
   },
   "outputs": [],
   "source": [
    "n_words = len(idx2word.keys())\n",
    "n_chars = len(idx2char.keys())\n",
    "max_len = 183\n",
    "max_len_char = 35\n",
    "n_tags = len(idx2tag.keys())"
   ]
  },
  {
   "cell_type": "markdown",
   "metadata": {},
   "source": [
    "## 80% train 20% test"
   ]
  },
  {
   "cell_type": "code",
   "execution_count": 24,
   "metadata": {
    "collapsed": true
   },
   "outputs": [],
   "source": [
    "split=0.8\n",
    "train_test_split = int(len(text_padded)*split)\n",
    "\n",
    "train_text_padded = np.array(text_padded)[0:train_test_split]\n",
    "train_char_padded = char_vectors_padded[0:train_test_split]\n",
    "\n",
    "test_text_padded = np.array(text_padded)[train_test_split:]\n",
    "test_char_padded = char_vectors_padded[train_test_split:]\n",
    "\n",
    "y_train = y[0:train_test_split]\n",
    "y_test = y[train_test_split:]\n",
    "\n",
    "train_features = [np.array(train_text_padded), train_char_padded]\n",
    "test_features = [np.array(test_text_padded), test_char_padded]"
   ]
  },
  {
   "cell_type": "code",
   "execution_count": 28,
   "metadata": {},
   "outputs": [
    {
     "data": {
      "text/plain": [
       "{'LOCAL': 3, 'O': 5, 'ORGANIZACAO': 1, 'PADDED': 0, 'PESSOA': 4, 'TEMPO': 2}"
      ]
     },
     "execution_count": 28,
     "metadata": {},
     "output_type": "execute_result"
    }
   ],
   "source": [
    "tag2idx"
   ]
  },
  {
   "cell_type": "code",
   "execution_count": 45,
   "metadata": {},
   "outputs": [
    {
     "data": {
      "text/plain": [
       "16275"
      ]
     },
     "execution_count": 45,
     "metadata": {},
     "output_type": "execute_result"
    }
   ],
   "source": [
    "len(y)"
   ]
  },
  {
   "cell_type": "code",
   "execution_count": 46,
   "metadata": {},
   "outputs": [
    {
     "data": {
      "text/plain": [
       "16275"
      ]
     },
     "execution_count": 46,
     "metadata": {},
     "output_type": "execute_result"
    }
   ],
   "source": [
    "len(tags_padded)"
   ]
  },
  {
   "cell_type": "code",
   "execution_count": 96,
   "metadata": {
    "collapsed": true
   },
   "outputs": [],
   "source": [
    "y_train = y[0:train_test_split]"
   ]
  },
  {
   "cell_type": "code",
   "execution_count": 97,
   "metadata": {},
   "outputs": [
    {
     "data": {
      "text/plain": [
       "(13020, 183, 6)"
      ]
     },
     "execution_count": 97,
     "metadata": {},
     "output_type": "execute_result"
    }
   ],
   "source": [
    "y_train.shape"
   ]
  },
  {
   "cell_type": "code",
   "execution_count": 105,
   "metadata": {},
   "outputs": [
    {
     "name": "stdout",
     "output_type": "stream",
     "text": [
      "_________________________________________________________________\n",
      "Layer (type)                 Output Shape              Param #   \n",
      "=================================================================\n",
      "input_8 (InputLayer)         (None, 183)               0         \n",
      "_________________________________________________________________\n",
      "embedding_8 (Embedding)      (None, 183, 20)           770660    \n",
      "_________________________________________________________________\n",
      "lstm_8 (LSTM)                (None, 183, 25)           4600      \n",
      "_________________________________________________________________\n",
      "dense_8 (Dense)              (None, 183, 6)            156       \n",
      "=================================================================\n",
      "Total params: 775,416\n",
      "Trainable params: 775,416\n",
      "Non-trainable params: 0\n",
      "_________________________________________________________________\n"
     ]
    }
   ],
   "source": [
    "x = Input(shape=(max_len,))\n",
    "embeddings = Embedding(input_dim=n_words + 1, output_dim=20, \n",
    "                       input_length=max_len, mask_zero=True)(x)\n",
    "\n",
    "lstm_out = LSTM(units=25, return_sequences=True, recurrent_dropout=0.1)(embeddings)  # variational biLSTM\n",
    "pred = Dense(6, activation=\"softmax\")(lstm_out)  # a dense layer as suggested by neuralNer\n",
    "model = Model(x, pred)\n",
    "\n",
    "model.compile(optimizer=\"rmsprop\", loss='categorical_crossentropy', metrics=['accuracy'])\n",
    "model.summary()"
   ]
  },
  {
   "cell_type": "code",
   "execution_count": 106,
   "metadata": {
    "scrolled": true
   },
   "outputs": [
    {
     "name": "stdout",
     "output_type": "stream",
     "text": [
      "Epoch 1/1\n",
      "13020/13020 [==============================] - 62s 5ms/step - loss: 0.5980 - acc: 0.8624\n"
     ]
    }
   ],
   "source": [
    "history = model.fit(train_features[0], y_train)"
   ]
  },
  {
   "cell_type": "code",
   "execution_count": 107,
   "metadata": {
    "collapsed": true
   },
   "outputs": [],
   "source": [
    "predictions = model.predict(test_features[0])"
   ]
  },
  {
   "cell_type": "code",
   "execution_count": 108,
   "metadata": {},
   "outputs": [
    {
     "data": {
      "text/plain": [
       "(3255, 183, 6)"
      ]
     },
     "execution_count": 108,
     "metadata": {},
     "output_type": "execute_result"
    }
   ],
   "source": [
    "predictions.shape"
   ]
  },
  {
   "cell_type": "code",
   "execution_count": 110,
   "metadata": {
    "collapsed": true
   },
   "outputs": [],
   "source": [
    "all_predictions = []\n",
    "sentence_predictions = []\n",
    "\n",
    "for sentence in predictions:\n",
    "    for tag in sentence:\n",
    "        sentence_predictions.append(idx2tag[np.argmax(tag)])\n",
    "        all_tags.add(idx2tag[np.argmax(tag)])\n",
    "    all_predictions.append(sentence_predictions)\n",
    "    sentence_predictions = []"
   ]
  },
  {
   "cell_type": "code",
   "execution_count": 111,
   "metadata": {},
   "outputs": [
    {
     "data": {
      "text/plain": [
       "3255"
      ]
     },
     "execution_count": 111,
     "metadata": {},
     "output_type": "execute_result"
    }
   ],
   "source": [
    "len(all_predictions)"
   ]
  },
  {
   "cell_type": "code",
   "execution_count": 112,
   "metadata": {
    "collapsed": true
   },
   "outputs": [],
   "source": [
    "all_true = []\n",
    "for sentence in y_test:    \n",
    "    sent_true = [idx2tag[np.argmax(tag)] for tag in sentence]\n",
    "    all_true.append(sent_true)"
   ]
  },
  {
   "cell_type": "code",
   "execution_count": 113,
   "metadata": {},
   "outputs": [
    {
     "data": {
      "text/plain": [
       "3255"
      ]
     },
     "execution_count": 113,
     "metadata": {},
     "output_type": "execute_result"
    }
   ],
   "source": [
    "len(all_true)"
   ]
  },
  {
   "cell_type": "code",
   "execution_count": 114,
   "metadata": {},
   "outputs": [
    {
     "name": "stderr",
     "output_type": "stream",
     "text": [
      "/Users/dsbatista/virtual_envs/python3/lib/python3.6/site-packages/sklearn/metrics/classification.py:1143: UndefinedMetricWarning: Precision and F-score are ill-defined and being set to 0.0 in labels with no predicted samples.\n",
      "  'precision', 'predicted', average, warn_for)\n"
     ]
    },
    {
     "name": "stdout",
     "output_type": "stream",
     "text": [
      "              precision    recall  f1-score   support\n",
      "\n",
      "       LOCAL       0.26      0.40      0.32      1485\n",
      "           O       0.09      0.99      0.17     54591\n",
      " ORGANIZACAO       0.00      0.00      0.00      1213\n",
      "      PADDED       0.00      0.00      0.00    532567\n",
      "      PESSOA       1.00      0.00      0.00      3164\n",
      "       TEMPO       0.42      0.01      0.01      2645\n",
      "\n",
      "   micro avg       0.09      0.09      0.09    595665\n",
      "   macro avg       0.30      0.23      0.08    595665\n",
      "weighted avg       0.02      0.09      0.02    595665\n",
      "\n"
     ]
    }
   ],
   "source": [
    "from sklearn_crfsuite.metrics import flat_classification_report\n",
    "print(flat_classification_report(all_true, all_predictions))"
   ]
  },
  {
   "cell_type": "code",
   "execution_count": null,
   "metadata": {
    "collapsed": true
   },
   "outputs": [],
   "source": []
  }
 ],
 "metadata": {
  "kernelspec": {
   "display_name": "Python 3",
   "language": "python",
   "name": "python3"
  },
  "language_info": {
   "codemirror_mode": {
    "name": "ipython",
    "version": 3
   },
   "file_extension": ".py",
   "mimetype": "text/x-python",
   "name": "python",
   "nbconvert_exporter": "python",
   "pygments_lexer": "ipython3",
   "version": "3.6.2"
  }
 },
 "nbformat": 4,
 "nbformat_minor": 2
}
