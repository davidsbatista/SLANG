{
 "cells": [
  {
   "cell_type": "code",
   "execution_count": 23,
   "metadata": {},
   "outputs": [],
   "source": [
    "import gensim\n",
    "import numpy as np\n",
    "\n",
    "from keras.models import Model\n",
    "from keras.preprocessing import sequence\n",
    "from keras.layers.wrappers import Bidirectional\n",
    "from keras.layers import Input, LSTM, Dropout, Embedding"
   ]
  },
  {
   "cell_type": "code",
   "execution_count": 24,
   "metadata": {
    "collapsed": true
   },
   "outputs": [],
   "source": [
    "paramopama = \"/Users/dsbatista/NER-datasets/Portuguese/Paramopama/corpus_paramopama+second_harem.txt\""
   ]
  },
  {
   "cell_type": "code",
   "execution_count": 25,
   "metadata": {
    "collapsed": true
   },
   "outputs": [],
   "source": [
    "max_seq_len = 0\n",
    "vocabulary = set()\n",
    "all_tags = set()\n",
    "\n",
    "with open(paramopama, 'rt') as f_input:\n",
    "    sentences_tokens = []\n",
    "    sentences_tags = []\n",
    "    tokens = []\n",
    "    tags = []\n",
    "    for line in f_input:\n",
    "        if line=='\\n':\n",
    "            if len(tokens) > max_seq_len:\n",
    "                max_seq_len = len(tokens)            \n",
    "            sentences_tokens.append(tokens)\n",
    "            sentences_tags.append(tags)\n",
    "            tokens = []\n",
    "            tags = []            \n",
    "        else:\n",
    "            token, tag = line.split('\\t')\n",
    "            tokens.append(token)\n",
    "            tags.append(tag.strip())\n",
    "            vocabulary.add(token)\n",
    "            all_tags.add(tag.strip())"
   ]
  },
  {
   "cell_type": "markdown",
   "metadata": {},
   "source": [
    "## generate statistics on the corpus"
   ]
  },
  {
   "cell_type": "code",
   "execution_count": 26,
   "metadata": {
    "collapsed": true
   },
   "outputs": [],
   "source": [
    "# TODO"
   ]
  },
  {
   "cell_type": "code",
   "execution_count": 27,
   "metadata": {
    "collapsed": true
   },
   "outputs": [],
   "source": [
    "# create an index of tokens, adding two special tokens: 'PADDED' and 'UNKNOWN'\n",
    "PADDED = 0\n",
    "UNKNOWN = 1\n",
    "\n",
    "word2idx = {word: i + 2 for i, word in enumerate(vocabulary, 0)}\n",
    "word2idx[\"PADDED\"] = PADDED\n",
    "word2idx[\"UNKNOWN\"] = UNKNOWN\n",
    "idx2word = {value: key for key, value in word2idx.items()} \n",
    "\n",
    "tag2idx={}\n",
    "tag2idx[\"PADDED\"] = PADDED\n",
    "tag2idx.update({tag: i + 1 for i, tag in enumerate(all_tags, 0)})\n",
    "idx2tag = {value: key for key, value in tag2idx.items()}"
   ]
  },
  {
   "cell_type": "code",
   "execution_count": 28,
   "metadata": {
    "scrolled": true
   },
   "outputs": [
    {
     "data": {
      "text/plain": [
       "183"
      ]
     },
     "execution_count": 28,
     "metadata": {},
     "output_type": "execute_result"
    }
   ],
   "source": [
    "max_seq_len"
   ]
  },
  {
   "cell_type": "code",
   "execution_count": 29,
   "metadata": {},
   "outputs": [
    {
     "data": {
      "text/plain": [
       "38530"
      ]
     },
     "execution_count": 29,
     "metadata": {},
     "output_type": "execute_result"
    }
   ],
   "source": [
    "len(vocabulary)"
   ]
  },
  {
   "cell_type": "code",
   "execution_count": 35,
   "metadata": {},
   "outputs": [
    {
     "name": "stdout",
     "output_type": "stream",
     "text": [
      "O \t O\n",
      "município \t O\n",
      "é \t O\n",
      "limitado \t O\n",
      "a \t O\n",
      "norte \t O\n",
      "pelo \t O\n",
      "município \t O\n",
      "de \t O\n",
      "Sever \t LOCAL\n",
      "do \t LOCAL\n",
      "Vouga \t LOCAL\n",
      ", \t O\n",
      "a \t O\n",
      "nordeste \t O\n",
      "por \t O\n",
      "Oliveira \t LOCAL\n",
      "de \t LOCAL\n",
      "Frades \t LOCAL\n",
      "e \t O\n",
      "por \t O\n",
      "Vouzela \t LOCAL\n",
      ", \t O\n",
      "a \t O\n",
      "leste \t O\n",
      "por \t O\n",
      "Tondela \t LOCAL\n",
      ", \t O\n",
      "a \t O\n",
      "sul \t O\n",
      "por \t O\n",
      "Mortágua \t LOCAL\n",
      "e \t O\n",
      "por \t O\n",
      "Anadia \t LOCAL\n",
      ", \t O\n",
      "a \t O\n",
      "sudoeste \t O\n",
      "por \t O\n",
      "Oliveira \t LOCAL\n",
      "do \t LOCAL\n",
      "Bairro \t LOCAL\n",
      ", \t O\n",
      "a \t O\n",
      "oeste \t O\n",
      "por \t O\n",
      "Aveiro \t LOCAL\n",
      "e \t O\n",
      "a \t O\n",
      "noroeste \t O\n",
      "por \t O\n",
      "Albergaria-a-Velha \t LOCAL\n",
      ". \t O\n"
     ]
    }
   ],
   "source": [
    "index=10\n",
    "for token, tag in zip(sentences_tokens[index], sentences_tags[index]):\n",
    "    print(token,'\\t', tag)"
   ]
  },
  {
   "cell_type": "markdown",
   "metadata": {},
   "source": [
    "## Load Embeddings"
   ]
  },
  {
   "cell_type": "code",
   "execution_count": 36,
   "metadata": {
    "collapsed": true
   },
   "outputs": [],
   "source": [
    "fname = \"/Users/dsbatista/PycharmProjects/other/embeddings-http-endpoint/publico_vectors_non-breaking-spaces.bin\"\n",
    "embeddings = gensim.models.KeyedVectors.load_word2vec_format(fname, binary=True)"
   ]
  },
  {
   "cell_type": "code",
   "execution_count": 37,
   "metadata": {},
   "outputs": [
    {
     "data": {
      "text/plain": [
       "200"
      ]
     },
     "execution_count": 37,
     "metadata": {},
     "output_type": "execute_result"
    }
   ],
   "source": [
    "embeddings.vector_size"
   ]
  },
  {
   "cell_type": "code",
   "execution_count": 38,
   "metadata": {},
   "outputs": [
    {
     "data": {
      "text/plain": [
       "219475"
      ]
     },
     "execution_count": 38,
     "metadata": {},
     "output_type": "execute_result"
    }
   ],
   "source": [
    "len(embeddings.index2word)"
   ]
  },
  {
   "cell_type": "code",
   "execution_count": 39,
   "metadata": {},
   "outputs": [
    {
     "name": "stdout",
     "output_type": "stream",
     "text": [
      "15196 of 219475 tokens randomly initialized\n"
     ]
    }
   ],
   "source": [
    "# build a word embeddings matrix, out of vocabulary words will be initialized randomly\n",
    "embedding_matrix = np.random.random((len(embeddings.index2word), embeddings.vector_size))\n",
    "not_found = 0\n",
    "\n",
    "for word, i in word2idx.items():\n",
    "    if word in embeddings.vocab:\n",
    "        embedding_vector = embeddings[word]\n",
    "        embedding_matrix[i] = embedding_vector\n",
    "    else:\n",
    "        not_found += 1\n",
    "\n",
    "print('{} of {} tokens randomly initialized'.format(not_found, len(embeddings.index2word)))"
   ]
  },
  {
   "cell_type": "code",
   "execution_count": 40,
   "metadata": {},
   "outputs": [
    {
     "data": {
      "text/plain": [
       "16275"
      ]
     },
     "execution_count": 40,
     "metadata": {},
     "output_type": "execute_result"
    }
   ],
   "source": [
    "len(sentences_tags)"
   ]
  },
  {
   "cell_type": "code",
   "execution_count": 41,
   "metadata": {
    "collapsed": true
   },
   "outputs": [],
   "source": [
    "vectors_tokens = []\n",
    "for sentence in sentences_tokens:\n",
    "    vector = []\n",
    "    for word in sentence:\n",
    "        vector.append(word2idx[word])\n",
    "    vectors_tokens.append(vector)"
   ]
  },
  {
   "cell_type": "code",
   "execution_count": 42,
   "metadata": {},
   "outputs": [
    {
     "data": {
      "text/plain": [
       "16275"
      ]
     },
     "execution_count": 42,
     "metadata": {},
     "output_type": "execute_result"
    }
   ],
   "source": [
    "len(vectors_tokens)"
   ]
  },
  {
   "cell_type": "code",
   "execution_count": 43,
   "metadata": {
    "collapsed": true
   },
   "outputs": [],
   "source": [
    "vectors_tags = []\n",
    "for sentence in sentences_tags:\n",
    "    vector = []\n",
    "    for tag in sentence:\n",
    "        vector.append(tag2idx[tag])\n",
    "    vectors_tags.append(vector)"
   ]
  },
  {
   "cell_type": "code",
   "execution_count": 44,
   "metadata": {},
   "outputs": [
    {
     "data": {
      "text/plain": [
       "16275"
      ]
     },
     "execution_count": 44,
     "metadata": {},
     "output_type": "execute_result"
    }
   ],
   "source": [
    "len(vectors_tags)"
   ]
  },
  {
   "cell_type": "code",
   "execution_count": 45,
   "metadata": {
    "collapsed": true
   },
   "outputs": [],
   "source": [
    "MAX_LENGTH = max_seq_len  # max([len(sentence) for sentence in sent_text])"
   ]
  },
  {
   "cell_type": "code",
   "execution_count": 46,
   "metadata": {
    "collapsed": true
   },
   "outputs": [],
   "source": [
    "text_padded = sequence.pad_sequences(vectors_tokens, padding='post', maxlen=MAX_LENGTH, truncating='post')\n",
    "tags_padded = sequence.pad_sequences(vectors_tags, padding='post', maxlen=MAX_LENGTH, truncating='post')"
   ]
  },
  {
   "cell_type": "markdown",
   "metadata": {},
   "source": [
    "## check that indexes and padding are correct"
   ]
  },
  {
   "cell_type": "code",
   "execution_count": 47,
   "metadata": {},
   "outputs": [
    {
     "name": "stdout",
     "output_type": "stream",
     "text": [
      "Jana \t O\n",
      "Gana \t O\n",
      "Mana \t O\n",
      "é \t O\n",
      "o \t O\n",
      "hino \t O\n",
      "nacional \t O\n",
      "da \t O\n",
      "Índia \t LOCAL\n",
      ". \t O\n",
      "PADDED \t PADDED\n",
      "PADDED \t PADDED\n",
      "PADDED \t PADDED\n",
      "PADDED \t PADDED\n",
      "PADDED \t PADDED\n",
      "PADDED \t PADDED\n",
      "PADDED \t PADDED\n",
      "PADDED \t PADDED\n",
      "PADDED \t PADDED\n",
      "PADDED \t PADDED\n",
      "PADDED \t PADDED\n",
      "PADDED \t PADDED\n",
      "PADDED \t PADDED\n",
      "PADDED \t PADDED\n",
      "PADDED \t PADDED\n",
      "PADDED \t PADDED\n",
      "PADDED \t PADDED\n",
      "PADDED \t PADDED\n",
      "PADDED \t PADDED\n",
      "PADDED \t PADDED\n",
      "PADDED \t PADDED\n",
      "PADDED \t PADDED\n",
      "PADDED \t PADDED\n",
      "PADDED \t PADDED\n",
      "PADDED \t PADDED\n",
      "PADDED \t PADDED\n",
      "PADDED \t PADDED\n",
      "PADDED \t PADDED\n",
      "PADDED \t PADDED\n",
      "PADDED \t PADDED\n",
      "PADDED \t PADDED\n",
      "PADDED \t PADDED\n",
      "PADDED \t PADDED\n",
      "PADDED \t PADDED\n",
      "PADDED \t PADDED\n",
      "PADDED \t PADDED\n",
      "PADDED \t PADDED\n",
      "PADDED \t PADDED\n",
      "PADDED \t PADDED\n",
      "PADDED \t PADDED\n",
      "PADDED \t PADDED\n",
      "PADDED \t PADDED\n",
      "PADDED \t PADDED\n",
      "PADDED \t PADDED\n",
      "PADDED \t PADDED\n",
      "PADDED \t PADDED\n",
      "PADDED \t PADDED\n",
      "PADDED \t PADDED\n",
      "PADDED \t PADDED\n",
      "PADDED \t PADDED\n",
      "PADDED \t PADDED\n",
      "PADDED \t PADDED\n",
      "PADDED \t PADDED\n",
      "PADDED \t PADDED\n",
      "PADDED \t PADDED\n",
      "PADDED \t PADDED\n",
      "PADDED \t PADDED\n",
      "PADDED \t PADDED\n",
      "PADDED \t PADDED\n",
      "PADDED \t PADDED\n",
      "PADDED \t PADDED\n",
      "PADDED \t PADDED\n",
      "PADDED \t PADDED\n",
      "PADDED \t PADDED\n",
      "PADDED \t PADDED\n",
      "PADDED \t PADDED\n",
      "PADDED \t PADDED\n",
      "PADDED \t PADDED\n",
      "PADDED \t PADDED\n",
      "PADDED \t PADDED\n",
      "PADDED \t PADDED\n",
      "PADDED \t PADDED\n",
      "PADDED \t PADDED\n",
      "PADDED \t PADDED\n",
      "PADDED \t PADDED\n",
      "PADDED \t PADDED\n",
      "PADDED \t PADDED\n",
      "PADDED \t PADDED\n",
      "PADDED \t PADDED\n",
      "PADDED \t PADDED\n",
      "PADDED \t PADDED\n",
      "PADDED \t PADDED\n",
      "PADDED \t PADDED\n",
      "PADDED \t PADDED\n",
      "PADDED \t PADDED\n",
      "PADDED \t PADDED\n",
      "PADDED \t PADDED\n",
      "PADDED \t PADDED\n",
      "PADDED \t PADDED\n",
      "PADDED \t PADDED\n",
      "PADDED \t PADDED\n",
      "PADDED \t PADDED\n",
      "PADDED \t PADDED\n",
      "PADDED \t PADDED\n",
      "PADDED \t PADDED\n",
      "PADDED \t PADDED\n",
      "PADDED \t PADDED\n",
      "PADDED \t PADDED\n",
      "PADDED \t PADDED\n",
      "PADDED \t PADDED\n",
      "PADDED \t PADDED\n",
      "PADDED \t PADDED\n",
      "PADDED \t PADDED\n",
      "PADDED \t PADDED\n",
      "PADDED \t PADDED\n",
      "PADDED \t PADDED\n",
      "PADDED \t PADDED\n",
      "PADDED \t PADDED\n",
      "PADDED \t PADDED\n",
      "PADDED \t PADDED\n",
      "PADDED \t PADDED\n",
      "PADDED \t PADDED\n",
      "PADDED \t PADDED\n",
      "PADDED \t PADDED\n",
      "PADDED \t PADDED\n",
      "PADDED \t PADDED\n",
      "PADDED \t PADDED\n",
      "PADDED \t PADDED\n",
      "PADDED \t PADDED\n",
      "PADDED \t PADDED\n",
      "PADDED \t PADDED\n",
      "PADDED \t PADDED\n",
      "PADDED \t PADDED\n",
      "PADDED \t PADDED\n",
      "PADDED \t PADDED\n",
      "PADDED \t PADDED\n",
      "PADDED \t PADDED\n",
      "PADDED \t PADDED\n",
      "PADDED \t PADDED\n",
      "PADDED \t PADDED\n",
      "PADDED \t PADDED\n",
      "PADDED \t PADDED\n",
      "PADDED \t PADDED\n",
      "PADDED \t PADDED\n",
      "PADDED \t PADDED\n",
      "PADDED \t PADDED\n",
      "PADDED \t PADDED\n",
      "PADDED \t PADDED\n",
      "PADDED \t PADDED\n",
      "PADDED \t PADDED\n",
      "PADDED \t PADDED\n",
      "PADDED \t PADDED\n",
      "PADDED \t PADDED\n",
      "PADDED \t PADDED\n",
      "PADDED \t PADDED\n",
      "PADDED \t PADDED\n",
      "PADDED \t PADDED\n",
      "PADDED \t PADDED\n",
      "PADDED \t PADDED\n",
      "PADDED \t PADDED\n",
      "PADDED \t PADDED\n",
      "PADDED \t PADDED\n",
      "PADDED \t PADDED\n",
      "PADDED \t PADDED\n",
      "PADDED \t PADDED\n",
      "PADDED \t PADDED\n",
      "PADDED \t PADDED\n",
      "PADDED \t PADDED\n",
      "PADDED \t PADDED\n",
      "PADDED \t PADDED\n",
      "PADDED \t PADDED\n",
      "PADDED \t PADDED\n",
      "PADDED \t PADDED\n",
      "PADDED \t PADDED\n",
      "PADDED \t PADDED\n",
      "PADDED \t PADDED\n",
      "PADDED \t PADDED\n",
      "PADDED \t PADDED\n",
      "PADDED \t PADDED\n",
      "PADDED \t PADDED\n",
      "PADDED \t PADDED\n",
      "PADDED \t PADDED\n",
      "PADDED \t PADDED\n"
     ]
    }
   ],
   "source": [
    "index = 1\n",
    "for token, tag in zip(text_padded[index], tags_padded[index]):\n",
    "    print(idx2word[token], '\\t', idx2tag[tag])"
   ]
  },
  {
   "cell_type": "markdown",
   "metadata": {},
   "source": [
    "# LSTM+CRF model"
   ]
  },
  {
   "cell_type": "code",
   "execution_count": 48,
   "metadata": {},
   "outputs": [
    {
     "name": "stdout",
     "output_type": "stream",
     "text": [
      "_________________________________________________________________\n",
      "Layer (type)                 Output Shape              Param #   \n",
      "=================================================================\n",
      "txt_input (InputLayer)       (None, 183)               0         \n",
      "_________________________________________________________________\n",
      "txt_embedding (Embedding)    (None, 183, 200)          43895000  \n",
      "_________________________________________________________________\n",
      "txt_dropout (Dropout)        (None, 183, 200)          0         \n",
      "_________________________________________________________________\n",
      "txt_bidirectional (Bidirecti (None, 183, 400)          641600    \n",
      "_________________________________________________________________\n",
      "mrg_bidirectional_1 (Bidirec (None, 183, 400)          961600    \n",
      "_________________________________________________________________\n",
      "crf_2 (CRF)                  (None, 183, 6)            2454      \n",
      "=================================================================\n",
      "Total params: 45,500,654\n",
      "Trainable params: 45,500,654\n",
      "Non-trainable params: 0\n",
      "_________________________________________________________________\n"
     ]
    }
   ],
   "source": [
    "from keras_contrib.layers import CRF\n",
    "from keras_contrib.utils import save_load_utils\n",
    "# from keras_tqdm import TQDMNotebookCallback\n",
    "\n",
    "# sentence and embeddings\n",
    "MAX_VOCAB = len(embeddings.index2word)\n",
    "EMBEDDING_SIZE = 200\n",
    "\n",
    "# network hyper-parameters\n",
    "HIDDEN_SIZE = 200  # LSTM Nodes/Features/Dimension\n",
    "DROPOUTRATE = 0.2\n",
    "    \n",
    "# text layers : dense embedding > dropout > bi-LSTM\n",
    "txt_input = Input(shape=(MAX_LENGTH,), name='txt_input')\n",
    "\n",
    "txt_embed = Embedding(MAX_VOCAB, EMBEDDING_SIZE, input_length=MAX_LENGTH, weights=[embedding_matrix], \n",
    "                      name='txt_embedding', trainable=True, mask_zero=True)(txt_input)\n",
    "\n",
    "txt_drpot = Dropout(DROPOUTRATE, name='txt_dropout')(txt_embed)\n",
    "\n",
    "txt_lstml = Bidirectional(LSTM(HIDDEN_SIZE, return_sequences=True), name='txt_bidirectional')(txt_drpot)\n",
    "mrg_lstml = Bidirectional(LSTM(HIDDEN_SIZE, return_sequences=True), name='mrg_bidirectional_1')(txt_lstml)\n",
    "\n",
    "# extra LSTM layer, if wanted\n",
    "# mrg_drpot = Dropout(DROPOUTRATE, name='mrg_dropout')(mrg_lstml)\n",
    "# mrg_lstml = Bidirectional(LSTM(HIDDEN_SIZE, return_sequences=True),\n",
    "#                           name='mrg_bidirectional_2')(mrg_lstml)\n",
    "# mrg_outpt = Activation('sigmoid', name='mrg_activation')(mrg_lstml)\n",
    "# final linear chain CRF layer\n",
    "\n",
    "dim_output_space = len(idx2tag.keys())\n",
    "\n",
    "crf = CRF(dim_output_space, sparse_target=True)\n",
    "mrg_chain = crf(mrg_lstml)\n",
    "model = Model(inputs=[txt_input], outputs=mrg_chain)\n",
    "model.compile(optimizer='adam', loss=crf.loss_function, metrics=[crf.accuracy])\n",
    "model.summary()"
   ]
  },
  {
   "cell_type": "code",
   "execution_count": 49,
   "metadata": {
    "collapsed": true
   },
   "outputs": [],
   "source": [
    "y_train_ner = tags_padded[:, :, np.newaxis]  # reshape data for CRF"
   ]
  },
  {
   "cell_type": "code",
   "execution_count": 63,
   "metadata": {},
   "outputs": [
    {
     "data": {
      "text/plain": [
       "array([[3],\n",
       "       [3],\n",
       "       [3],\n",
       "       [3],\n",
       "       [3],\n",
       "       [4],\n",
       "       [4],\n",
       "       [3],\n",
       "       [3],\n",
       "       [3],\n",
       "       [3],\n",
       "       [3],\n",
       "       [3],\n",
       "       [1],\n",
       "       [1],\n",
       "       [1],\n",
       "       [3],\n",
       "       [3],\n",
       "       [3],\n",
       "       [5],\n",
       "       [5],\n",
       "       [3],\n",
       "       [0],\n",
       "       [0],\n",
       "       [0],\n",
       "       [0],\n",
       "       [0],\n",
       "       [0],\n",
       "       [0],\n",
       "       [0],\n",
       "       [0],\n",
       "       [0],\n",
       "       [0],\n",
       "       [0],\n",
       "       [0],\n",
       "       [0],\n",
       "       [0],\n",
       "       [0],\n",
       "       [0],\n",
       "       [0],\n",
       "       [0],\n",
       "       [0],\n",
       "       [0],\n",
       "       [0],\n",
       "       [0],\n",
       "       [0],\n",
       "       [0],\n",
       "       [0],\n",
       "       [0],\n",
       "       [0],\n",
       "       [0],\n",
       "       [0],\n",
       "       [0],\n",
       "       [0],\n",
       "       [0],\n",
       "       [0],\n",
       "       [0],\n",
       "       [0],\n",
       "       [0],\n",
       "       [0],\n",
       "       [0],\n",
       "       [0],\n",
       "       [0],\n",
       "       [0],\n",
       "       [0],\n",
       "       [0],\n",
       "       [0],\n",
       "       [0],\n",
       "       [0],\n",
       "       [0],\n",
       "       [0],\n",
       "       [0],\n",
       "       [0],\n",
       "       [0],\n",
       "       [0],\n",
       "       [0],\n",
       "       [0],\n",
       "       [0],\n",
       "       [0],\n",
       "       [0],\n",
       "       [0],\n",
       "       [0],\n",
       "       [0],\n",
       "       [0],\n",
       "       [0],\n",
       "       [0],\n",
       "       [0],\n",
       "       [0],\n",
       "       [0],\n",
       "       [0],\n",
       "       [0],\n",
       "       [0],\n",
       "       [0],\n",
       "       [0],\n",
       "       [0],\n",
       "       [0],\n",
       "       [0],\n",
       "       [0],\n",
       "       [0],\n",
       "       [0],\n",
       "       [0],\n",
       "       [0],\n",
       "       [0],\n",
       "       [0],\n",
       "       [0],\n",
       "       [0],\n",
       "       [0],\n",
       "       [0],\n",
       "       [0],\n",
       "       [0],\n",
       "       [0],\n",
       "       [0],\n",
       "       [0],\n",
       "       [0],\n",
       "       [0],\n",
       "       [0],\n",
       "       [0],\n",
       "       [0],\n",
       "       [0],\n",
       "       [0],\n",
       "       [0],\n",
       "       [0],\n",
       "       [0],\n",
       "       [0],\n",
       "       [0],\n",
       "       [0],\n",
       "       [0],\n",
       "       [0],\n",
       "       [0],\n",
       "       [0],\n",
       "       [0],\n",
       "       [0],\n",
       "       [0],\n",
       "       [0],\n",
       "       [0],\n",
       "       [0],\n",
       "       [0],\n",
       "       [0],\n",
       "       [0],\n",
       "       [0],\n",
       "       [0],\n",
       "       [0],\n",
       "       [0],\n",
       "       [0],\n",
       "       [0],\n",
       "       [0],\n",
       "       [0],\n",
       "       [0],\n",
       "       [0],\n",
       "       [0],\n",
       "       [0],\n",
       "       [0],\n",
       "       [0],\n",
       "       [0],\n",
       "       [0],\n",
       "       [0],\n",
       "       [0],\n",
       "       [0],\n",
       "       [0],\n",
       "       [0],\n",
       "       [0],\n",
       "       [0],\n",
       "       [0],\n",
       "       [0],\n",
       "       [0],\n",
       "       [0],\n",
       "       [0],\n",
       "       [0],\n",
       "       [0],\n",
       "       [0],\n",
       "       [0],\n",
       "       [0],\n",
       "       [0],\n",
       "       [0],\n",
       "       [0],\n",
       "       [0],\n",
       "       [0],\n",
       "       [0],\n",
       "       [0],\n",
       "       [0],\n",
       "       [0],\n",
       "       [0],\n",
       "       [0]], dtype=int32)"
      ]
     },
     "execution_count": 63,
     "metadata": {},
     "output_type": "execute_result"
    }
   ],
   "source": [
    "y_train_ner[0]"
   ]
  },
  {
   "cell_type": "code",
   "execution_count": 50,
   "metadata": {},
   "outputs": [
    {
     "data": {
      "text/plain": [
       "16275"
      ]
     },
     "execution_count": 50,
     "metadata": {},
     "output_type": "execute_result"
    }
   ],
   "source": [
    "len(text_padded)"
   ]
  },
  {
   "cell_type": "code",
   "execution_count": 51,
   "metadata": {},
   "outputs": [
    {
     "data": {
      "text/plain": [
       "16275"
      ]
     },
     "execution_count": 51,
     "metadata": {},
     "output_type": "execute_result"
    }
   ],
   "source": [
    "len(y_train_ner)"
   ]
  },
  {
   "cell_type": "code",
   "execution_count": 53,
   "metadata": {},
   "outputs": [
    {
     "name": "stdout",
     "output_type": "stream",
     "text": [
      "Train on 800 samples, validate on 200 samples\n",
      "Epoch 1/5\n",
      "800/800 [==============================] - 116s 145ms/step - loss: 14.3616 - acc: 0.8779 - val_loss: 14.1788 - val_acc: 0.8924\n",
      "Epoch 2/5\n",
      "800/800 [==============================] - 119s 149ms/step - loss: 14.1630 - acc: 0.9156 - val_loss: 14.0447 - val_acc: 0.9293\n",
      "Epoch 3/5\n",
      "800/800 [==============================] - 111s 139ms/step - loss: 14.0682 - acc: 0.9422 - val_loss: 14.0224 - val_acc: 0.9326\n",
      "Epoch 4/5\n",
      "800/800 [==============================] - 111s 139ms/step - loss: 14.0182 - acc: 0.9592 - val_loss: 14.0226 - val_acc: 0.9371\n",
      "Epoch 5/5\n",
      "800/800 [==============================] - 119s 148ms/step - loss: 13.9724 - acc: 0.9743 - val_loss: 14.0281 - val_acc: 0.9397\n"
     ]
    }
   ],
   "source": [
    "SPLIT = 1000\n",
    "BATCH_SIZE = 8\n",
    "MAX_EPOCHS = 5  # max iterations, early stop condition below\n",
    "\n",
    "history = model.fit(text_padded[:SPLIT], y_train_ner[:SPLIT], \n",
    "                    validation_split=0.2, batch_size=BATCH_SIZE, epochs=MAX_EPOCHS, \n",
    "                    verbose=1)\n",
    "hist_dict = history.history"
   ]
  },
  {
   "cell_type": "code",
   "execution_count": null,
   "metadata": {
    "collapsed": true
   },
   "outputs": [],
   "source": []
  },
  {
   "cell_type": "code",
   "execution_count": 54,
   "metadata": {
    "collapsed": true
   },
   "outputs": [],
   "source": [
    "test_text_padded = text_padded[SPLIT:]\n",
    "test_y_train_ner = y_train_ner[SPLIT:]"
   ]
  },
  {
   "cell_type": "code",
   "execution_count": 55,
   "metadata": {
    "collapsed": true
   },
   "outputs": [],
   "source": [
    "predictions = model.predict(test_text_padded)"
   ]
  },
  {
   "cell_type": "code",
   "execution_count": 56,
   "metadata": {
    "collapsed": true
   },
   "outputs": [],
   "source": [
    "all_tags = set()\n",
    "all_predictions = []\n",
    "sentence_predictions = []\n",
    "\n",
    "for sentence in predictions:\n",
    "    for tag in sentence:\n",
    "        sentence_predictions.append(idx2tag[np.argmax(tag)])\n",
    "        all_tags.add(idx2tag[np.argmax(tag)])\n",
    "    all_predictions.append(sentence_predictions)\n",
    "    sentence_predictions = []"
   ]
  },
  {
   "cell_type": "code",
   "execution_count": 57,
   "metadata": {},
   "outputs": [
    {
     "data": {
      "text/plain": [
       "15275"
      ]
     },
     "execution_count": 57,
     "metadata": {},
     "output_type": "execute_result"
    }
   ],
   "source": [
    "len(all_predictions)"
   ]
  },
  {
   "cell_type": "code",
   "execution_count": 58,
   "metadata": {
    "collapsed": true
   },
   "outputs": [],
   "source": [
    "all_true = []\n",
    "for sentence_tags in test_y_train_ner:\n",
    "    all_true.append([idx2tag[tag[0]] for tag in sentence_tags])"
   ]
  },
  {
   "cell_type": "code",
   "execution_count": 59,
   "metadata": {},
   "outputs": [
    {
     "data": {
      "text/plain": [
       "15275"
      ]
     },
     "execution_count": 59,
     "metadata": {},
     "output_type": "execute_result"
    }
   ],
   "source": [
    "len(all_true)"
   ]
  },
  {
   "cell_type": "code",
   "execution_count": 60,
   "metadata": {},
   "outputs": [
    {
     "name": "stdout",
     "output_type": "stream",
     "text": [
      "              precision    recall  f1-score   support\n",
      "\n",
      "       LOCAL       0.56      0.69      0.62     17208\n",
      "           O       0.95      0.97      0.96    310258\n",
      " ORGANIZACAO       0.45      0.10      0.16      8418\n",
      "      PADDED       1.00      1.00      1.00   2435567\n",
      "      PESSOA       0.46      0.42      0.44     10573\n",
      "       TEMPO       0.86      0.63      0.73     13301\n",
      "\n",
      "   micro avg       0.99      0.99      0.99   2795325\n",
      "   macro avg       0.71      0.64      0.65   2795325\n",
      "weighted avg       0.99      0.99      0.99   2795325\n",
      "\n"
     ]
    }
   ],
   "source": [
    "from sklearn_crfsuite.metrics import flat_classification_report\n",
    "print(flat_classification_report(all_true, all_predictions))"
   ]
  }
 ],
 "metadata": {
  "kernelspec": {
   "display_name": "Python 3",
   "language": "python",
   "name": "python3"
  },
  "language_info": {
   "codemirror_mode": {
    "name": "ipython",
    "version": 3
   },
   "file_extension": ".py",
   "mimetype": "text/x-python",
   "name": "python",
   "nbconvert_exporter": "python",
   "pygments_lexer": "ipython3",
   "version": "3.6.2"
  }
 },
 "nbformat": 4,
 "nbformat_minor": 2
}
