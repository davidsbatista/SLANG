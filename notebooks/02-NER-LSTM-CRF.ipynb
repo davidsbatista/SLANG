{
 "cells": [
  {
   "cell_type": "code",
   "execution_count": 1,
   "metadata": {},
   "outputs": [
    {
     "name": "stderr",
     "output_type": "stream",
     "text": [
      "Using TensorFlow backend.\n"
     ]
    }
   ],
   "source": [
    "import gensim\n",
    "import numpy as np\n",
    "\n",
    "from keras.models import Model\n",
    "from keras.preprocessing import sequence\n",
    "from keras.layers.wrappers import Bidirectional\n",
    "from keras.layers import Input, LSTM, Dropout, Embedding"
   ]
  },
  {
   "cell_type": "code",
   "execution_count": 2,
   "metadata": {
    "collapsed": true
   },
   "outputs": [],
   "source": [
    "paramopama = \"corpus_paramopama+second_harem.txt\""
   ]
  },
  {
   "cell_type": "code",
   "execution_count": 3,
   "metadata": {
    "collapsed": true
   },
   "outputs": [],
   "source": [
    "max_seq_len = 0\n",
    "vocabulary = set()\n",
    "all_tags = set()\n",
    "\n",
    "with open(paramopama, 'rt') as f_input:\n",
    "    sentences_tokens = []\n",
    "    sentences_tags = []\n",
    "    tokens = []\n",
    "    tags = []\n",
    "    for line in f_input:\n",
    "        if line=='\\n':\n",
    "            if len(tokens) > max_seq_len:\n",
    "                max_seq_len = len(tokens)            \n",
    "            sentences_tokens.append(tokens)\n",
    "            sentences_tags.append(tags)\n",
    "            tokens = []\n",
    "            tags = []            \n",
    "        else:\n",
    "            token, tag = line.split('\\t')\n",
    "            tokens.append(token)\n",
    "            tags.append(tag.strip())\n",
    "            vocabulary.add(token)\n",
    "            all_tags.add(tag.strip())"
   ]
  },
  {
   "cell_type": "code",
   "execution_count": 4,
   "metadata": {
    "collapsed": true
   },
   "outputs": [],
   "source": [
    "characters = set(char for token in vocabulary for char in token)"
   ]
  },
  {
   "cell_type": "code",
   "execution_count": 5,
   "metadata": {
    "collapsed": true
   },
   "outputs": [],
   "source": [
    "# create an index of tokens, adding two special tokens: 'PADDED' and 'UNKNOWN'\n",
    "PADDED = 0\n",
    "UNKNOWN = 1\n",
    "\n",
    "char2idx = {char: idx for idx, char in enumerate(characters)}\n",
    "idx2char = {idx: char for char, idx in char2idx.items()}\n",
    "\n",
    "word2idx = {word: i + 2 for i, word in enumerate(vocabulary, 0)}\n",
    "word2idx[\"PADDED\"] = PADDED\n",
    "word2idx[\"UNKNOWN\"] = UNKNOWN\n",
    "idx2word = {value: key for key, value in word2idx.items()} \n",
    "\n",
    "tag2idx={}\n",
    "tag2idx[\"PADDED\"] = PADDED\n",
    "tag2idx.update({tag: i + 1 for i, tag in enumerate(all_tags, 0)})\n",
    "idx2tag = {value: key for key, value in tag2idx.items()}"
   ]
  },
  {
   "cell_type": "markdown",
   "metadata": {},
   "source": [
    "## Load Embeddings"
   ]
  },
  {
   "cell_type": "code",
   "execution_count": 6,
   "metadata": {},
   "outputs": [
    {
     "data": {
      "text/plain": [
       "200"
      ]
     },
     "execution_count": 6,
     "metadata": {},
     "output_type": "execute_result"
    }
   ],
   "source": [
    "fname = \"publico_vectors_non-breaking-spaces.bin\"\n",
    "embeddings = gensim.models.KeyedVectors.load_word2vec_format(fname, binary=True)\n",
    "embeddings.vector_size"
   ]
  },
  {
   "cell_type": "code",
   "execution_count": 7,
   "metadata": {},
   "outputs": [
    {
     "name": "stdout",
     "output_type": "stream",
     "text": [
      "15196 of 219475 tokens randomly initialized\n"
     ]
    }
   ],
   "source": [
    "# build a word embeddings matrix, out of vocabulary words will be initialized randomly\n",
    "embedding_matrix = np.random.random((len(embeddings.index2word), embeddings.vector_size))\n",
    "not_found = 0\n",
    "\n",
    "for word, i in word2idx.items():\n",
    "    if word in embeddings.vocab:\n",
    "        embedding_vector = embeddings[word]\n",
    "        embedding_matrix[i] = embedding_vector\n",
    "    else:\n",
    "        not_found += 1\n",
    "\n",
    "print('{} of {} tokens randomly initialized'.format(not_found, len(embeddings.index2word)))"
   ]
  },
  {
   "cell_type": "code",
   "execution_count": 8,
   "metadata": {
    "collapsed": true
   },
   "outputs": [],
   "source": [
    "vectors_tokens = []\n",
    "for sentence in sentences_tokens:\n",
    "    vector = []\n",
    "    for word in sentence:\n",
    "        vector.append(word2idx[word])\n",
    "    vectors_tokens.append(vector)"
   ]
  },
  {
   "cell_type": "code",
   "execution_count": 9,
   "metadata": {},
   "outputs": [
    {
     "data": {
      "text/plain": [
       "16275"
      ]
     },
     "execution_count": 9,
     "metadata": {},
     "output_type": "execute_result"
    }
   ],
   "source": [
    "len(vectors_tokens)"
   ]
  },
  {
   "cell_type": "code",
   "execution_count": 10,
   "metadata": {
    "collapsed": true
   },
   "outputs": [],
   "source": [
    "vectors_tags = []\n",
    "for sentence in sentences_tags:\n",
    "    vector = []\n",
    "    for tag in sentence:\n",
    "        vector.append(tag2idx[tag])\n",
    "    vectors_tags.append(vector)"
   ]
  },
  {
   "cell_type": "code",
   "execution_count": 11,
   "metadata": {},
   "outputs": [
    {
     "data": {
      "text/plain": [
       "16275"
      ]
     },
     "execution_count": 11,
     "metadata": {},
     "output_type": "execute_result"
    }
   ],
   "source": [
    "len(vectors_tags)"
   ]
  },
  {
   "cell_type": "code",
   "execution_count": 12,
   "metadata": {
    "collapsed": true
   },
   "outputs": [],
   "source": [
    "def token2char(token):\n",
    "    word_char_idx = []\n",
    "    for char in token:\n",
    "        word_char_idx.append(char2idx[char])\n",
    "    return np.array(word_char_idx)"
   ]
  },
  {
   "cell_type": "code",
   "execution_count": 13,
   "metadata": {
    "collapsed": true
   },
   "outputs": [],
   "source": [
    "def pad_nested_sequences(sequences, dtype='int32'):\n",
    "    \"\"\"Pads nested sequences to the same length.\n",
    "    This function transforms a list of list sequences\n",
    "    into a 3D Numpy array of shape `(num_samples, max_sent_len, max_word_len)`.\n",
    "    Args:\n",
    "        sequences: List of lists of lists.\n",
    "        dtype: Type of the output sequences.\n",
    "    # Returns\n",
    "        x: Numpy array.\n",
    "    \"\"\"\n",
    "    max_sent_len = 0\n",
    "    max_word_len = 0\n",
    "    for sent in sequences:\n",
    "        max_sent_len = max(len(sent), max_sent_len)\n",
    "        for word in sent:\n",
    "            max_word_len = max(len(word), max_word_len)\n",
    "\n",
    "    x = np.zeros((len(sequences), max_sent_len, max_word_len)).astype(dtype)\n",
    "    for i, sent in enumerate(sequences):\n",
    "        for j, word in enumerate(sent):\n",
    "            x[i, j, :len(word)] = word\n",
    "\n",
    "    return x\n"
   ]
  },
  {
   "cell_type": "code",
   "execution_count": 14,
   "metadata": {
    "collapsed": true
   },
   "outputs": [],
   "source": [
    "MAX_LENGTH = max_seq_len  # max([len(sentence) for sentence in sent_text])"
   ]
  },
  {
   "cell_type": "code",
   "execution_count": 15,
   "metadata": {
    "collapsed": true
   },
   "outputs": [],
   "source": [
    "text_padded = sequence.pad_sequences(vectors_tokens, padding='post', maxlen=MAX_LENGTH, truncating='post')\n",
    "tags_padded = sequence.pad_sequences(vectors_tags, padding='post', maxlen=MAX_LENGTH, truncating='post')"
   ]
  },
  {
   "cell_type": "code",
   "execution_count": 16,
   "metadata": {
    "collapsed": true
   },
   "outputs": [],
   "source": [
    "char_ids = [[token2char(idx2word[token_idx]) for token_idx in doc] for doc in vectors_tokens]\n",
    "char_vectors_padded = pad_nested_sequences(char_ids)    "
   ]
  },
  {
   "cell_type": "code",
   "execution_count": 17,
   "metadata": {
    "collapsed": true
   },
   "outputs": [],
   "source": [
    "features = [np.array(text_padded), char_ids]"
   ]
  },
  {
   "cell_type": "code",
   "execution_count": 18,
   "metadata": {
    "collapsed": true
   },
   "outputs": [],
   "source": [
    "use_char = True\n",
    "use_crf = True\n",
    "\n",
    "char_vocab_size = 10\n",
    "char_embedding_dim = 25\n",
    "char_lstm_size = 25\n",
    "dropout = 0.3\n",
    "\n",
    "word_lstm_size = 50\n",
    "\n",
    "fc_dim = 100 # output fully-connected layer size\n",
    "num_labels = len(tag2idx.keys())"
   ]
  },
  {
   "cell_type": "code",
   "execution_count": 19,
   "metadata": {
    "collapsed": true
   },
   "outputs": [],
   "source": [
    "from keras.utils import to_categorical"
   ]
  },
  {
   "cell_type": "code",
   "execution_count": 20,
   "metadata": {
    "collapsed": true
   },
   "outputs": [],
   "source": [
    "len(tag2idx.keys())\n",
    "y = to_categorical(tags_padded, len(tag2idx.keys())).astype(int)\n",
    "y = y if len(y.shape) == 3 else np.expand_dims(y, axis=0)"
   ]
  },
  {
   "cell_type": "code",
   "execution_count": 21,
   "metadata": {},
   "outputs": [
    {
     "data": {
      "text/plain": [
       "{0: 'PADDED', 1: 'PESSOA', 2: 'O', 3: 'TEMPO', 4: 'LOCAL', 5: 'ORGANIZACAO'}"
      ]
     },
     "execution_count": 21,
     "metadata": {},
     "output_type": "execute_result"
    }
   ],
   "source": [
    "idx2tag"
   ]
  },
  {
   "cell_type": "code",
   "execution_count": 22,
   "metadata": {},
   "outputs": [
    {
     "data": {
      "text/plain": [
       "array([2, 2, 2, 2, 2, 2, 2, 2, 2, 2, 2, 2, 2, 2, 2, 3, 3, 2, 2, 5, 2, 2,\n",
       "       4, 2, 2, 2, 2, 2, 2, 2, 2, 2, 2, 2, 2, 2, 2, 2, 2, 2, 2, 2, 2, 2,\n",
       "       2, 2, 2, 2, 2, 0, 0, 0, 0, 0, 0, 0, 0, 0, 0, 0, 0, 0, 0, 0, 0, 0,\n",
       "       0, 0, 0, 0, 0, 0, 0, 0, 0, 0, 0, 0, 0, 0, 0, 0, 0, 0, 0, 0, 0, 0,\n",
       "       0, 0, 0, 0, 0, 0, 0, 0, 0, 0, 0, 0, 0, 0, 0, 0, 0, 0, 0, 0, 0, 0,\n",
       "       0, 0, 0, 0, 0, 0, 0, 0, 0, 0, 0, 0, 0, 0, 0, 0, 0, 0, 0, 0, 0, 0,\n",
       "       0, 0, 0, 0, 0, 0, 0, 0, 0, 0, 0, 0, 0, 0, 0, 0, 0, 0, 0, 0, 0, 0,\n",
       "       0, 0, 0, 0, 0, 0, 0, 0, 0, 0, 0, 0, 0, 0, 0, 0, 0, 0, 0, 0, 0, 0,\n",
       "       0, 0, 0, 0, 0, 0, 0], dtype=int32)"
      ]
     },
     "execution_count": 22,
     "metadata": {},
     "output_type": "execute_result"
    }
   ],
   "source": [
    "tags_padded[3]"
   ]
  },
  {
   "cell_type": "code",
   "execution_count": 23,
   "metadata": {
    "collapsed": true
   },
   "outputs": [],
   "source": [
    "word_vocab_size = len(idx2word.keys())\n",
    "word_embedding_dim = 100"
   ]
  },
  {
   "cell_type": "code",
   "execution_count": 24,
   "metadata": {
    "collapsed": true
   },
   "outputs": [],
   "source": [
    "from keras import metrics\n",
    "from keras.layers import TimeDistributed, Dense, Input\n",
    "from keras.layers import concatenate"
   ]
  },
  {
   "cell_type": "code",
   "execution_count": 25,
   "metadata": {
    "collapsed": true
   },
   "outputs": [],
   "source": [
    "n_words = len(idx2word.keys())\n",
    "n_chars = len(idx2char.keys())\n",
    "max_len = 183\n",
    "max_len_char = 35\n",
    "n_tags = len(idx2tag.keys())"
   ]
  },
  {
   "cell_type": "markdown",
   "metadata": {},
   "source": [
    "## 80% train 20% test"
   ]
  },
  {
   "cell_type": "code",
   "execution_count": 117,
   "metadata": {
    "collapsed": true
   },
   "outputs": [],
   "source": [
    "split=0.33\n",
    "train_test_split = int(len(text_padded)*split)\n",
    "\n",
    "train_text_padded = np.array(text_padded)[0:train_test_split]\n",
    "train_char_padded = char_vectors_padded[0:train_test_split]\n",
    "\n",
    "test_text_padded = np.array(text_padded)[train_test_split:]\n",
    "test_char_padded = char_vectors_padded[train_test_split:]\n",
    "\n",
    "y_train = y[0:train_test_split]\n",
    "y_test = y[train_test_split:]\n",
    "\n",
    "train_features = [np.array(train_text_padded), train_char_padded]\n",
    "test_features = [np.array(test_text_padded), test_char_padded]"
   ]
  },
  {
   "cell_type": "code",
   "execution_count": 118,
   "metadata": {},
   "outputs": [
    {
     "data": {
      "text/plain": [
       "{'LOCAL': 4, 'O': 2, 'ORGANIZACAO': 5, 'PADDED': 0, 'PESSOA': 1, 'TEMPO': 3}"
      ]
     },
     "execution_count": 118,
     "metadata": {},
     "output_type": "execute_result"
    }
   ],
   "source": [
    "tag2idx"
   ]
  },
  {
   "cell_type": "code",
   "execution_count": 119,
   "metadata": {},
   "outputs": [
    {
     "data": {
      "text/plain": [
       "16275"
      ]
     },
     "execution_count": 119,
     "metadata": {},
     "output_type": "execute_result"
    }
   ],
   "source": [
    "len(y)"
   ]
  },
  {
   "cell_type": "code",
   "execution_count": 120,
   "metadata": {},
   "outputs": [
    {
     "data": {
      "text/plain": [
       "16275"
      ]
     },
     "execution_count": 120,
     "metadata": {},
     "output_type": "execute_result"
    }
   ],
   "source": [
    "len(tags_padded)"
   ]
  },
  {
   "cell_type": "code",
   "execution_count": 121,
   "metadata": {
    "collapsed": true
   },
   "outputs": [],
   "source": [
    "y_train = y[0:train_test_split]"
   ]
  },
  {
   "cell_type": "code",
   "execution_count": 122,
   "metadata": {},
   "outputs": [
    {
     "data": {
      "text/plain": [
       "(5370, 183, 6)"
      ]
     },
     "execution_count": 122,
     "metadata": {},
     "output_type": "execute_result"
    }
   ],
   "source": [
    "y_train.shape"
   ]
  },
  {
   "cell_type": "code",
   "execution_count": 123,
   "metadata": {},
   "outputs": [
    {
     "name": "stdout",
     "output_type": "stream",
     "text": [
      "_________________________________________________________________\n",
      "Layer (type)                 Output Shape              Param #   \n",
      "=================================================================\n",
      "input_18 (InputLayer)        (None, 183)               0         \n",
      "_________________________________________________________________\n",
      "embedding_18 (Embedding)     (None, 183, 200)          7706600   \n",
      "_________________________________________________________________\n",
      "bidirectional_2 (Bidirection (None, 183, 256)          336896    \n",
      "_________________________________________________________________\n",
      "dense_17 (Dense)             (None, 183, 6)            1542      \n",
      "_________________________________________________________________\n",
      "crf_19 (CRF)                 (None, 183, 6)            90        \n",
      "=================================================================\n",
      "Total params: 8,045,128\n",
      "Trainable params: 8,045,128\n",
      "Non-trainable params: 0\n",
      "_________________________________________________________________\n"
     ]
    }
   ],
   "source": [
    "from keras_contrib.layers import CRF\n",
    "\n",
    "crf = CRF(6, learn_mode='join', sparse_target=False)\n",
    "loss = crf.loss_function\n",
    "metric=[crf.accuracy]\n",
    "\n",
    "x = Input(shape=(max_len,))\n",
    "embeddings = Embedding(input_dim=n_words + 1, output_dim=200, \n",
    "                       input_length=max_len, \n",
    "                       mask_zero=True, \n",
    "                       trainable=True)(x)\n",
    "\n",
    "lstm_out = Bidirectional(LSTM(units=128, return_sequences=True, recurrent_dropout=0.1), \n",
    "                         merge_mode='concat')(embeddings)\n",
    "pred = Dense(6, activation=\"softmax\")(lstm_out)\n",
    "out = crf(pred)\n",
    "model = Model(x, out)\n",
    "\n",
    "model.compile('adam', loss=crf.loss_function, metrics=[crf.accuracy])\n",
    "model.summary()"
   ]
  },
  {
   "cell_type": "code",
   "execution_count": 124,
   "metadata": {
    "scrolled": true
   },
   "outputs": [
    {
     "name": "stdout",
     "output_type": "stream",
     "text": [
      "Epoch 1/5\n",
      "5370/5370 [==============================] - 83s 15ms/step - loss: 16.0811 - acc: 0.6651\n",
      "Epoch 2/5\n",
      "5370/5370 [==============================] - 73s 14ms/step - loss: 15.6624 - acc: 0.8502\n",
      "Epoch 3/5\n",
      "5370/5370 [==============================] - 74s 14ms/step - loss: 15.5093 - acc: 0.8503\n",
      "Epoch 4/5\n",
      "5370/5370 [==============================] - 79s 15ms/step - loss: 15.4532 - acc: 0.8501\n",
      "Epoch 5/5\n",
      "5370/5370 [==============================] - 75s 14ms/step - loss: 15.3804 - acc: 0.8500\n"
     ]
    }
   ],
   "source": [
    "history = model.fit(train_features[0], y_train, epochs=5)"
   ]
  },
  {
   "cell_type": "code",
   "execution_count": 125,
   "metadata": {
    "collapsed": true
   },
   "outputs": [],
   "source": [
    "predictions = model.predict(train_features[0])"
   ]
  },
  {
   "cell_type": "code",
   "execution_count": 127,
   "metadata": {
    "collapsed": true
   },
   "outputs": [],
   "source": [
    "all_predictions = []\n",
    "sentence_predictions = []\n",
    "\n",
    "for sentence in predictions:\n",
    "    for tag in sentence:\n",
    "        sentence_predictions.append(idx2tag[np.argmax(tag)])\n",
    "        all_tags.add(idx2tag[np.argmax(tag)])\n",
    "    all_predictions.append(sentence_predictions)\n",
    "    sentence_predictions = []"
   ]
  },
  {
   "cell_type": "code",
   "execution_count": 128,
   "metadata": {},
   "outputs": [
    {
     "data": {
      "text/plain": [
       "5370"
      ]
     },
     "execution_count": 128,
     "metadata": {},
     "output_type": "execute_result"
    }
   ],
   "source": [
    "len(all_predictions)"
   ]
  },
  {
   "cell_type": "markdown",
   "metadata": {},
   "source": [
    "# evaluate agains training data: (as a test, even with low training should produce positive results)"
   ]
  },
  {
   "cell_type": "code",
   "execution_count": 129,
   "metadata": {
    "collapsed": true
   },
   "outputs": [],
   "source": [
    "all_true = []\n",
    "for sentence in y_train:    \n",
    "    sent_true = [idx2tag[np.argmax(tag)] for tag in sentence]\n",
    "    all_true.append(sent_true)"
   ]
  },
  {
   "cell_type": "code",
   "execution_count": 130,
   "metadata": {},
   "outputs": [
    {
     "data": {
      "text/plain": [
       "5370"
      ]
     },
     "execution_count": 130,
     "metadata": {},
     "output_type": "execute_result"
    }
   ],
   "source": [
    "len(all_true)"
   ]
  },
  {
   "cell_type": "code",
   "execution_count": 106,
   "metadata": {},
   "outputs": [
    {
     "name": "stderr",
     "output_type": "stream",
     "text": [
      "/Users/dsbatista/virtual_envs/python3/lib/python3.6/site-packages/sklearn/metrics/classification.py:1143: UndefinedMetricWarning: Precision and F-score are ill-defined and being set to 0.0 in labels with no predicted samples.\n",
      "  'precision', 'predicted', average, warn_for)\n"
     ]
    },
    {
     "name": "stdout",
     "output_type": "stream",
     "text": [
      "              precision    recall  f1-score   support\n",
      "\n",
      "       LOCAL       0.00      0.00      0.00     10403\n",
      "           O       0.85      1.00      0.92    116298\n",
      " ORGANIZACAO       0.00      0.00      0.00      2357\n",
      "      PADDED       1.00      1.00      1.00    845960\n",
      "      PESSOA       0.00      0.00      0.00      2458\n",
      "       TEMPO       0.88      0.08      0.15      5234\n",
      "\n",
      "   micro avg       0.98      0.98      0.98    982710\n",
      "   macro avg       0.46      0.35      0.35    982710\n",
      "weighted avg       0.97      0.98      0.97    982710\n",
      "\n"
     ]
    }
   ],
   "source": [
    "from sklearn_crfsuite.metrics import flat_classification_report\n",
    "print(flat_classification_report(all_true, all_predictions))"
   ]
  },
  {
   "cell_type": "code",
   "execution_count": 88,
   "metadata": {},
   "outputs": [
    {
     "name": "stderr",
     "output_type": "stream",
     "text": [
      "/Users/dsbatista/virtual_envs/python3/lib/python3.6/site-packages/sklearn/metrics/classification.py:1143: UndefinedMetricWarning: Precision and F-score are ill-defined and being set to 0.0 in labels with no predicted samples.\n",
      "  'precision', 'predicted', average, warn_for)\n"
     ]
    },
    {
     "name": "stdout",
     "output_type": "stream",
     "text": [
      "              precision    recall  f1-score   support\n",
      "\n",
      "       LOCAL       0.00      0.00      0.00      5751\n",
      "           O       0.86      1.00      0.93     71129\n",
      " ORGANIZACAO       0.00      0.00      0.00      1499\n",
      "      PADDED       1.00      1.00      1.00    512954\n",
      "      PESSOA       0.00      0.00      0.00      1541\n",
      "       TEMPO       0.86      0.05      0.09      2791\n",
      "\n",
      "   micro avg       0.98      0.98      0.98    595665\n",
      "   macro avg       0.45      0.34      0.34    595665\n",
      "weighted avg       0.97      0.98      0.97    595665\n",
      "\n"
     ]
    }
   ],
   "source": [
    "from sklearn_crfsuite.metrics import flat_classification_report\n",
    "print(flat_classification_report(all_true, all_predictions))"
   ]
  },
  {
   "cell_type": "code",
   "execution_count": null,
   "metadata": {
    "collapsed": true
   },
   "outputs": [],
   "source": []
  },
  {
   "cell_type": "code",
   "execution_count": null,
   "metadata": {
    "collapsed": true
   },
   "outputs": [],
   "source": []
  },
  {
   "cell_type": "code",
   "execution_count": 80,
   "metadata": {},
   "outputs": [
    {
     "name": "stderr",
     "output_type": "stream",
     "text": [
      "/Users/dsbatista/virtual_envs/python3/lib/python3.6/site-packages/sklearn/metrics/classification.py:1143: UndefinedMetricWarning: Precision and F-score are ill-defined and being set to 0.0 in labels with no predicted samples.\n",
      "  'precision', 'predicted', average, warn_for)\n"
     ]
    },
    {
     "name": "stdout",
     "output_type": "stream",
     "text": [
      "              precision    recall  f1-score   support\n",
      "\n",
      "       LOCAL       0.00      0.00      0.00      5751\n",
      "           O       0.86      1.00      0.93     71129\n",
      " ORGANIZACAO       0.00      0.00      0.00      1499\n",
      "      PADDED       1.00      1.00      1.00    512954\n",
      "      PESSOA       0.00      0.00      0.00      1541\n",
      "       TEMPO       0.91      0.03      0.06      2791\n",
      "\n",
      "   micro avg       0.98      0.98      0.98    595665\n",
      "   macro avg       0.46      0.34      0.33    595665\n",
      "weighted avg       0.97      0.98      0.97    595665\n",
      "\n"
     ]
    }
   ],
   "source": [
    "from sklearn_crfsuite.metrics import flat_classification_report\n",
    "print(flat_classification_report(all_true, all_predictions))"
   ]
  },
  {
   "cell_type": "code",
   "execution_count": null,
   "metadata": {
    "collapsed": true
   },
   "outputs": [],
   "source": []
  }
 ],
 "metadata": {
  "kernelspec": {
   "display_name": "Python 3",
   "language": "python",
   "name": "python3"
  },
  "language_info": {
   "codemirror_mode": {
    "name": "ipython",
    "version": 3
   },
   "file_extension": ".py",
   "mimetype": "text/x-python",
   "name": "python",
   "nbconvert_exporter": "python",
   "pygments_lexer": "ipython3",
   "version": "3.6.2"
  }
 },
 "nbformat": 4,
 "nbformat_minor": 2
}
